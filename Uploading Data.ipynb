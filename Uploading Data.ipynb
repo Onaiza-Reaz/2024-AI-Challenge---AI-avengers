{
  "nbformat": 4,
  "nbformat_minor": 0,
  "metadata": {
    "colab": {
      "private_outputs": true,
      "provenance": []
    },
    "kernelspec": {
      "name": "python3",
      "display_name": "Python 3"
    },
    "language_info": {
      "name": "python"
    }
  },
  "cells": [
    {
      "cell_type": "code",
      "execution_count": null,
      "metadata": {
        "id": "CRcvpJpqmsx5"
      },
      "outputs": [],
      "source": [
        "from google.colab import drive\n",
        "drive.mount('/content/drive')"
      ]
    },
    {
      "cell_type": "markdown",
      "source": [
        "## Directly Path of Audios file"
      ],
      "metadata": {
        "id": "gelIENhtDIY9"
      }
    },
    {
      "cell_type": "code",
      "source": [
        "import os\n",
        "import pandas as pd\n",
        "\n",
        "# Set the directory paths for each type of audio folder\n",
        "folders = {\n",
        "    \"nonstutter\": \"/content/drive/MyDrive/Nonstutter\",\n",
        "    \"prolongation\": \"/content/drive/MyDrive/Prolongation\",\n",
        "    \"repetition\": \"/content/drive/MyDrive/Repetition\",\n",
        "    \"blocks\": \"/content/drive/MyDrive/Blocks\"\n",
        "}\n",
        "\n",
        "# Initialize lists to store file paths and labels\n",
        "file_paths = []\n",
        "labels = []\n",
        "\n",
        "# Process audio files in each folder\n",
        "for label, folder_path in folders.items():\n",
        "    for filename in os.listdir(folder_path):\n",
        "        audio_file = os.path.join(folder_path, filename)\n",
        "        file_paths.append(audio_file)\n",
        "        labels.append(label)\n",
        "\n",
        "# Create DataFrame\n",
        "df = pd.DataFrame({'audio_file': file_paths, 'label': labels})\n",
        "\n",
        "# Save DataFrame to CSV file\n",
        "df.to_csv(\"/content/drive/MyDrive/dataset.csv\", index=False)\n"
      ],
      "metadata": {
        "id": "V3AEQFddmt56"
      },
      "execution_count": null,
      "outputs": []
    },
    {
      "cell_type": "markdown",
      "source": [
        "## Loading Dataset"
      ],
      "metadata": {
        "id": "WJwEJrojDdOE"
      }
    },
    {
      "cell_type": "code",
      "source": [
        "import pandas as pd\n",
        "\n",
        "# Load the dataset into a DataFrame\n",
        "df = pd.read_csv('/content/drive/MyDrive/dataset.csv')\n",
        "\n",
        "# Display the first few rows of the DataFrame\n",
        "df.head()"
      ],
      "metadata": {
        "id": "GL8pnLDpmyrz"
      },
      "execution_count": null,
      "outputs": []
    },
    {
      "cell_type": "code",
      "source": [
        "df.tail()"
      ],
      "metadata": {
        "id": "ivnoe0aBmzI7"
      },
      "execution_count": null,
      "outputs": []
    },
    {
      "cell_type": "code",
      "source": [
        "df.shape"
      ],
      "metadata": {
        "id": "Bu9FAht1m7AH"
      },
      "execution_count": null,
      "outputs": []
    }
  ]
}